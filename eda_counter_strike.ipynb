{
 "cells": [
  {
   "cell_type": "code",
   "execution_count": 161,
   "metadata": {},
   "outputs": [],
   "source": [
    "import pandas as pd\n",
    "import numpy as np\n",
    "import matplotlib.pyplot as plt\n",
    "import seaborn as sns "
   ]
  },
  {
   "cell_type": "code",
   "execution_count": 162,
   "metadata": {},
   "outputs": [],
   "source": [
    "train = pd.read_csv('results.csv')"
   ]
  },
  {
   "cell_type": "code",
   "execution_count": 163,
   "metadata": {},
   "outputs": [],
   "source": [
    "data = train"
   ]
  },
  {
   "cell_type": "code",
   "execution_count": 191,
   "metadata": {},
   "outputs": [
    {
     "data": {
      "text/plain": [
       "_map            object\n",
       "result_1         int64\n",
       "result_2         int64\n",
       "map_winner       int64\n",
       "starting_ct      int64\n",
       "ct_1             int64\n",
       "t_2              int64\n",
       "t_1              int64\n",
       "ct_2             int64\n",
       "rank_1           int64\n",
       "rank_2           int64\n",
       "map_wins_1       int64\n",
       "map_wins_2       int64\n",
       "match_winner     int64\n",
       "all_rounds       int64\n",
       "dtype: object"
      ]
     },
     "execution_count": 191,
     "metadata": {},
     "output_type": "execute_result"
    }
   ],
   "source": [
    "data.dtypes"
   ]
  },
  {
   "cell_type": "code",
   "execution_count": 190,
   "metadata": {},
   "outputs": [
    {
     "name": "stdout",
     "output_type": "stream",
     "text": [
      "_map 0\n",
      "result_1 0\n",
      "result_2 0\n",
      "map_winner 0\n",
      "starting_ct 0\n",
      "ct_1 0\n",
      "t_2 0\n",
      "t_1 0\n",
      "ct_2 0\n",
      "rank_1 0\n",
      "rank_2 0\n",
      "map_wins_1 0\n",
      "map_wins_2 0\n",
      "match_winner 0\n",
      "all_rounds 0\n"
     ]
    }
   ],
   "source": [
    "for i in data:\n",
    "    print(i, sum(data[i].isna()))\n",
    "# Пустых данных нет."
   ]
  },
  {
   "cell_type": "code",
   "execution_count": 165,
   "metadata": {},
   "outputs": [],
   "source": [
    "data = data.drop(['team_1', 'team_2', 'date', 'match_id', 'event_id'], axis = 1)"
   ]
  },
  {
   "cell_type": "code",
   "execution_count": 166,
   "metadata": {},
   "outputs": [],
   "source": [
    "data['all_rounds'] = data.ct_1 + data.ct_2 + data.t_2 + data.t_1"
   ]
  },
  {
   "cell_type": "code",
   "execution_count": 167,
   "metadata": {},
   "outputs": [],
   "source": [
    "cur_data = data[data['all_rounds'].max() == data.all_rounds]\n"
   ]
  },
  {
   "cell_type": "code",
   "execution_count": 173,
   "metadata": {},
   "outputs": [],
   "source": [
    "a = np.array([data['starting_ct'] == data['match_winner']])"
   ]
  },
  {
   "cell_type": "code",
   "execution_count": 169,
   "metadata": {},
   "outputs": [],
   "source": [
    "# Предположим, что победа команды зависит от стороны, за которую они начинают играть."
   ]
  },
  {
   "cell_type": "code",
   "execution_count": 188,
   "metadata": {},
   "outputs": [
    {
     "name": "stdout",
     "output_type": "stream",
     "text": [
      "В общем случае команды, начинающие за CT побеждают с вероятностью: 0.514.\n",
      "Cоответственно, если команда начинает игру за T: 0.486.\n",
      "Рассмотрим разные карты для получения более конкретного результата.\n"
     ]
    }
   ],
   "source": [
    "print(f'В общем случае команды, начинающие за CT побеждают с вероятностью: {round(a.sum() / len(a[0]), 4)}.\\n'\n",
    "      f'Cоответственно, если команда начинает игру за T: {round(1 - a.sum() / len(a[0]), 4)}.\\n'\n",
    "     'Рассмотрим разные карты для получения более конкретного результата.')"
   ]
  },
  {
   "cell_type": "code",
   "execution_count": 175,
   "metadata": {},
   "outputs": [],
   "source": [
    "# Мы видим, что в общем случае команды с одинаковой вероятностью побеждают вне зависимости от того,\n",
    "# за какую сторону они начинают играть. Тогда рассмотрим частные случаи на отдельных картах."
   ]
  },
  {
   "cell_type": "code",
   "execution_count": 176,
   "metadata": {},
   "outputs": [],
   "source": [
    "data_sets = {i._map:[0, 0] for i in data.iloc()}\n",
    "for i in data.iloc():\n",
    "#     print(i._map)\n",
    "    data_sets[i._map][0] += i['starting_ct'] == i['match_winner']\n",
    "    data_sets[i._map][1] += 1"
   ]
  },
  {
   "cell_type": "code",
   "execution_count": 189,
   "metadata": {},
   "outputs": [
    {
     "name": "stdout",
     "output_type": "stream",
     "text": [
      "On the Dust2 winrate CT: 0.5168, winreate T: 0.4832\n",
      "On the Inferno winrate CT: 0.5206, winreate T: 0.4794\n",
      "On the Vertigo winrate CT: 0.514, winreate T: 0.486\n",
      "On the Overpass winrate CT: 0.5026, winreate T: 0.4974\n",
      "On the Nuke winrate CT: 0.5074, winreate T: 0.4926\n",
      "On the Mirage winrate CT: 0.5175, winreate T: 0.4825\n",
      "On the Train winrate CT: 0.5113, winreate T: 0.4887\n",
      "On the Default winrate CT: 0.619, winreate T: 0.381\n",
      "On the Cache winrate CT: 0.5116, winreate T: 0.4884\n",
      "On the Cobblestone winrate CT: 0.5215, winreate T: 0.4785\n"
     ]
    }
   ],
   "source": [
    "for i in data_sets:\n",
    "    print(f'On the {i} winrate CT: {round(data_sets[i][0] / data_sets[i][1], 4)}, winreate T: {round(1 - data_sets[i][0] / data_sets[i][1], 4)}')\n",
    "\n"
   ]
  },
  {
   "cell_type": "code",
   "execution_count": 179,
   "metadata": {},
   "outputs": [],
   "source": [
    "new_data = pd.DataFrame({i:[data_sets[i][0] / data_sets[i][1]] for i in data_sets})\n"
   ]
  },
  {
   "cell_type": "code",
   "execution_count": 180,
   "metadata": {},
   "outputs": [
    {
     "data": {
      "image/png": "[encoded data removed]",
      "text/plain": [
       "<Figure size 864x432 with 1 Axes>"
      ]
     },
     "metadata": {
      "needs_background": "light"
     },
     "output_type": "display_data"
    }
   ],
   "source": [
    "\n",
    "\n",
    "y = new_data.iloc[0]\n",
    "x = np.array([i for i in new_data])\n",
    "fig, ax = plt.subplots()\n",
    "\n",
    "ax.bar(x, y)\n",
    "ax.bar(x, np.array(1 - y))\n",
    "\n",
    "fig.set_figwidth(12)   \n",
    "fig.set_figheight(6)   \n",
    "\n",
    "plt.show()"
   ]
  },
  {
   "cell_type": "code",
   "execution_count": 181,
   "metadata": {},
   "outputs": [],
   "source": [
    "# На графике видно, что карта Default немного выбивается из общей картины, рассмотрим её отдельно."
   ]
  },
  {
   "cell_type": "code",
   "execution_count": 182,
   "metadata": {},
   "outputs": [
    {
     "name": "stdout",
     "output_type": "stream",
     "text": [
      "Побед за СТ: 13, всего игр: 21\n"
     ]
    }
   ],
   "source": [
    "print(f\"Побед за СТ: {data_sets['Default'][0]}, всего игр: {data_sets['Default'][1]}\")"
   ]
  },
  {
   "cell_type": "code",
   "execution_count": 183,
   "metadata": {},
   "outputs": [],
   "source": [
    "# Ввиду того, что набор данных для карты Default слишком мал по сравнению с другими картами"
   ]
  },
  {
   "cell_type": "code",
   "execution_count": 184,
   "metadata": {},
   "outputs": [
    {
     "data": {
      "image/png": "[encoded data removed]",
      "text/plain": [
       "<Figure size 864x432 with 1 Axes>"
      ]
     },
     "metadata": {
      "needs_background": "light"
     },
     "output_type": "display_data"
    }
   ],
   "source": [
    "y = np.array([data_sets[i][1] for i in sorted(data_sets)])\n",
    "x = np.array([i for i in sorted(data_sets)])\n",
    "fig, ax = plt.subplots()\n",
    "\n",
    "ax.bar(x, y)\n",
    "\n",
    "\n",
    "fig.set_figwidth(12)   \n",
    "fig.set_figheight(6)   \n",
    "\n",
    "plt.show()"
   ]
  },
  {
   "cell_type": "code",
   "execution_count": null,
   "metadata": {},
   "outputs": [],
   "source": [
    "# Подтверждение выше сказанного суждения можно увидеть на графике."
   ]
  },
  {
   "cell_type": "code",
   "execution_count": null,
   "metadata": {},
   "outputs": [],
   "source": [
    "# Подводя итоги: изначально наша гипотеза была неверна\n",
    "# Т.к. из анализа данных мы выяснили, что победа некой команды не зависит от стороны, за которую она начала играть."
   ]
  },
  {
   "cell_type": "code",
   "execution_count": null,
   "metadata": {},
   "outputs": [],
   "source": []
  }
 ],
 "metadata": {
  "kernelspec": {
   "display_name": "Python 3",
   "language": "python",
   "name": "python3"
  },
  "language_info": {
   "codemirror_mode": {
    "name": "ipython",
    "version": 3
   },
   "file_extension": ".py",
   "mimetype": "text/x-python",
   "name": "python",
   "nbconvert_exporter": "python",
   "pygments_lexer": "ipython3",
   "version": "3.8.5"
  }
 },
 "nbformat": 4,
 "nbformat_minor": 4
}
